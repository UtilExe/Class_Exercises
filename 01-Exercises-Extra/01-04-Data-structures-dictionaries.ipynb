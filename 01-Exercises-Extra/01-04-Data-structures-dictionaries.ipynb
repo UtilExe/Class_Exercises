{
 "cells": [
  {
   "cell_type": "markdown",
   "metadata": {},
   "source": [
    "### Date Decoder.\n"
   ]
  },
  {
   "cell_type": "markdown",
   "metadata": {},
   "source": [
    "\n",
    "1. A date of the form 8-MAR-85 includes the name of the month, which must be translated to a number.\n",
    "2. Create a dict suitable for decoding month names to numbers.\n",
    "3. use string operations to split the date into 3 items using the \"-\" character.\n",
    "4. Translate the month and return a tuple.\n",
    "5. In the end we have a date \"dd-MMM-yy\" format and we get a new string \"d-m-y\""
   ]
  },
  {
   "cell_type": "code",
   "execution_count": null,
   "metadata": {},
   "outputs": [],
   "source": [
    "the_date = \"8-MAR-85\"\n",
    "dict_collection = {\"JAN\": 1, \"FEB\": 2, \"MARCH\": 3, \"APRIL\": 4, \"MAY\": 5, \"JUNE\": 6, \"JULY\": 7, \"AUGUST\": 8, \"SEPTEMBER\": 9, \"OCTOBER\": 10, \"NOVEMBER\": 11, \"DECEMBER\": 12}\n"
   ]
  }
 ],
 "metadata": {
  "kernelspec": {
   "display_name": "Python 3",
   "language": "python",
   "name": "python3"
  },
  "language_info": {
   "codemirror_mode": {
    "name": "ipython",
    "version": 3
   },
   "file_extension": ".py",
   "mimetype": "text/x-python",
   "name": "python",
   "nbconvert_exporter": "python",
   "pygments_lexer": "ipython3",
   "version": "3.7.6"
  }
 },
 "nbformat": 4,
 "nbformat_minor": 4
}
