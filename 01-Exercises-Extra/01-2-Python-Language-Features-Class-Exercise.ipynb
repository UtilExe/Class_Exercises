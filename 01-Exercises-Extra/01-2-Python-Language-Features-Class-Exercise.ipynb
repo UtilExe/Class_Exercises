{
 "cells": [
  {
   "cell_type": "markdown",
   "metadata": {},
   "source": [
    "# Exercise01 \n",
    "![](https://miro.medium.com/max/1266/1*Pb8oEA1nGIONsSJk7QSVzg.png)"
   ]
  },
  {
   "cell_type": "code",
   "execution_count": 19,
   "metadata": {},
   "outputs": [
    {
     "name": "stdout",
     "output_type": "stream",
     "text": [
      "Enter number1: 9\n",
      "Enter number2: 9\n",
      "The multiplied result is  81\n"
     ]
    }
   ],
   "source": [
    "number1 = int(input(\"Enter number1: \"))\n",
    "number2 = int(input(\"Enter number2: \"))\n",
    "print(\"The multiplied result is \", (number1 * number2))"
   ]
  }
 ],
 "metadata": {
  "kernelspec": {
   "display_name": "Python 3",
   "language": "python",
   "name": "python3"
  }
 },
 "nbformat": 4,
 "nbformat_minor": 4
}
